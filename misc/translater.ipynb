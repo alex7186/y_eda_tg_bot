{
 "cells": [
  {
   "cell_type": "code",
   "execution_count": 4,
   "metadata": {},
   "outputs": [],
   "source": [
    "import sqlite3\n",
    "\n",
    "connection = sqlite3.connect('final_doorcodes.db')"
   ]
  },
  {
   "cell_type": "code",
   "execution_count": 19,
   "metadata": {},
   "outputs": [
    {
     "data": {
      "text/plain": [
       "'2023-09-04 01:03:10'"
      ]
     },
     "execution_count": 19,
     "metadata": {},
     "output_type": "execute_result"
    }
   ],
   "source": [
    "from datetime import datetime\n",
    "\n",
    "datetime.now().strftime(\"%Y-%m-%d %H:%M:%S\")"
   ]
  },
  {
   "cell_type": "code",
   "execution_count": 13,
   "metadata": {},
   "outputs": [
    {
     "name": "stdout",
     "output_type": "stream",
     "text": [
      "\n",
      "        insert into users_log (date, user_tg_id, location_longitude, location_latitude)\n",
      "        values (\"hello worf\", \"123455\", 13.55, 15.33)\n",
      "        \n"
     ]
    }
   ],
   "source": [
    "def add_log(connection, date_str, user_tg_id, location_longitude, location_latitude):\n",
    "\n",
    "    # global SQLITE3_CONECTION\n",
    "\n",
    "    cursor = connection.cursor()\n",
    "\n",
    "    \n",
    "    cursor.execute(\"\"\"\n",
    "        insert into users_log (date, user_tg_id, location_longitude, location_latitude)\n",
    "        values (\"{}\", \"{}\", {}, {})\n",
    "        \"\"\".format(date_str, user_tg_id, location_longitude, location_latitude)\n",
    "    )\n",
    "\n",
    "    connection.commit()\n",
    "    cursor.close()\n",
    "\n",
    "add_log(connection=connection, \n",
    "    date_str='hello worf', \n",
    "    user_tg_id='123455', \n",
    "    location_longitude=13.55, \n",
    "    location_latitude=15.33\n",
    ")"
   ]
  },
  {
   "cell_type": "code",
   "execution_count": 17,
   "metadata": {},
   "outputs": [
    {
     "name": "stdout",
     "output_type": "stream",
     "text": [
      "[]\n"
     ]
    }
   ],
   "source": [
    "# cursor = connection.cursor()\n",
    "\n",
    "# print(cursor.execute('select * from users_log').fetchall())\n",
    "# cursor.close()\n",
    "\n",
    "# cursor = connection.cursor()\n",
    "\n",
    "# cursor.execute('delete from users_log where location_latitude=15.33')\n",
    "# connection.commit()\n",
    "# cursor.close()"
   ]
  },
  {
   "cell_type": "code",
   "execution_count": 5,
   "metadata": {},
   "outputs": [],
   "source": [
    "# create and fill users log table\n",
    "\n",
    "cursor = connection.cursor()\n",
    "\n",
    "cursor.execute(\n",
    "    \"\"\"\n",
    "    CREATE TABLE users_log (\n",
    "        date varchar (19),\n",
    "        user_tg_id varchar (15),\n",
    "        location_longitude real,\n",
    "        location_latitude real\n",
    "    )\n",
    "    \"\"\"\n",
    "    )\n",
    "\n",
    "connection.commit()\n",
    "cursor.close()"
   ]
  },
  {
   "cell_type": "code",
   "execution_count": null,
   "metadata": {},
   "outputs": [],
   "source": [
    "# create and fill data table\n",
    "\n",
    "import pandas as pd\n",
    "\n",
    "df = pd.read_csv('data/final_doorcodes.csv')\n",
    "cursor = connection.cursor()\n",
    "\n",
    "cursor.execute(\n",
    "        \"\"\"\n",
    "    CREATE TABLE y_eda_data (\n",
    "        address_city varchar (100),\n",
    "        address_street varchar (150),\n",
    "        address_house varchar (50),\n",
    "        address_entrance integer,\n",
    "        location_longitude real,\n",
    "        location_latitude real,\n",
    "        codes_list varchar(100)\n",
    "    )\n",
    "    \"\"\"\n",
    "    )\n",
    "\n",
    "connection.commit()\n",
    "cursor.close()\n",
    "\n",
    "df.to_sql(\n",
    "    name='y_eda_data',\n",
    "    con=connection,\n",
    "    if_exists='replace',\n",
    ")"
   ]
  },
  {
   "cell_type": "code",
   "execution_count": 2,
   "metadata": {},
   "outputs": [
    {
     "data": {
      "text/html": [
       "<div>\n",
       "<style scoped>\n",
       "    .dataframe tbody tr th:only-of-type {\n",
       "        vertical-align: middle;\n",
       "    }\n",
       "\n",
       "    .dataframe tbody tr th {\n",
       "        vertical-align: top;\n",
       "    }\n",
       "\n",
       "    .dataframe thead th {\n",
       "        text-align: right;\n",
       "    }\n",
       "</style>\n",
       "<table border=\"1\" class=\"dataframe\">\n",
       "  <thead>\n",
       "    <tr style=\"text-align: right;\">\n",
       "      <th></th>\n",
       "      <th>address_city</th>\n",
       "      <th>address_street</th>\n",
       "      <th>address_house</th>\n",
       "      <th>address_entrance</th>\n",
       "      <th>codes_list</th>\n",
       "      <th>distance</th>\n",
       "    </tr>\n",
       "  </thead>\n",
       "  <tbody>\n",
       "    <tr>\n",
       "      <th>0</th>\n",
       "      <td>Тель-Авив</td>\n",
       "      <td>улица Хаконгрес</td>\n",
       "      <td>33</td>\n",
       "      <td>None</td>\n",
       "      <td>code: 2707</td>\n",
       "      <td>4.875886e+06</td>\n",
       "    </tr>\n",
       "    <tr>\n",
       "      <th>1</th>\n",
       "      <td>Анапа</td>\n",
       "      <td>Крутой проезд</td>\n",
       "      <td>4</td>\n",
       "      <td>None</td>\n",
       "      <td>9978#</td>\n",
       "      <td>5.990014e+06</td>\n",
       "    </tr>\n",
       "    <tr>\n",
       "      <th>2</th>\n",
       "      <td>Анапа</td>\n",
       "      <td>улица Ивана Голубца</td>\n",
       "      <td>147</td>\n",
       "      <td>1</td>\n",
       "      <td>#1482</td>\n",
       "      <td>5.990015e+06</td>\n",
       "    </tr>\n",
       "    <tr>\n",
       "      <th>3</th>\n",
       "      <td>Анапа</td>\n",
       "      <td>улица Ивана Голубца</td>\n",
       "      <td>147</td>\n",
       "      <td>6</td>\n",
       "      <td>#6248</td>\n",
       "      <td>5.990029e+06</td>\n",
       "    </tr>\n",
       "    <tr>\n",
       "      <th>4</th>\n",
       "      <td>Анапа</td>\n",
       "      <td>улица Ивана Голубца</td>\n",
       "      <td>147/3</td>\n",
       "      <td>6</td>\n",
       "      <td>#6248</td>\n",
       "      <td>5.990029e+06</td>\n",
       "    </tr>\n",
       "    <tr>\n",
       "      <th>5</th>\n",
       "      <td>Анапа</td>\n",
       "      <td>Таманская улица</td>\n",
       "      <td>121к11</td>\n",
       "      <td>1</td>\n",
       "      <td>#2460 код</td>\n",
       "      <td>5.990052e+06</td>\n",
       "    </tr>\n",
       "    <tr>\n",
       "      <th>6</th>\n",
       "      <td>Анапа</td>\n",
       "      <td>Таманская улица</td>\n",
       "      <td>121к15</td>\n",
       "      <td>1</td>\n",
       "      <td>2460</td>\n",
       "      <td>5.990054e+06</td>\n",
       "    </tr>\n",
       "    <tr>\n",
       "      <th>7</th>\n",
       "      <td>Анапа</td>\n",
       "      <td>Таманская улица</td>\n",
       "      <td>121к14</td>\n",
       "      <td>1</td>\n",
       "      <td>#2460\\n#1212</td>\n",
       "      <td>5.990079e+06</td>\n",
       "    </tr>\n",
       "    <tr>\n",
       "      <th>8</th>\n",
       "      <td>Анапа</td>\n",
       "      <td>улица Ивана Голубца</td>\n",
       "      <td>147/2</td>\n",
       "      <td>4</td>\n",
       "      <td>#4386</td>\n",
       "      <td>5.990097e+06</td>\n",
       "    </tr>\n",
       "    <tr>\n",
       "      <th>9</th>\n",
       "      <td>Анапа</td>\n",
       "      <td>Таманская улица</td>\n",
       "      <td>121к10</td>\n",
       "      <td>1</td>\n",
       "      <td>#2460\\n#1212</td>\n",
       "      <td>5.990103e+06</td>\n",
       "    </tr>\n",
       "  </tbody>\n",
       "</table>\n",
       "</div>"
      ],
      "text/plain": [
       "  address_city       address_street address_house address_entrance  \\\n",
       "0    Тель-Авив      улица Хаконгрес            33             None   \n",
       "1        Анапа        Крутой проезд             4             None   \n",
       "2        Анапа  улица Ивана Голубца           147                1   \n",
       "3        Анапа  улица Ивана Голубца           147                6   \n",
       "4        Анапа  улица Ивана Голубца         147/3                6   \n",
       "5        Анапа      Таманская улица        121к11                1   \n",
       "6        Анапа      Таманская улица        121к15                1   \n",
       "7        Анапа      Таманская улица        121к14                1   \n",
       "8        Анапа  улица Ивана Голубца         147/2                4   \n",
       "9        Анапа      Таманская улица        121к10                1   \n",
       "\n",
       "     codes_list      distance  \n",
       "0    code: 2707  4.875886e+06  \n",
       "1         9978#  5.990014e+06  \n",
       "2         #1482  5.990015e+06  \n",
       "3         #6248  5.990029e+06  \n",
       "4         #6248  5.990029e+06  \n",
       "5     #2460 код  5.990052e+06  \n",
       "6          2460  5.990054e+06  \n",
       "7  #2460\\n#1212  5.990079e+06  \n",
       "8         #4386  5.990097e+06  \n",
       "9  #2460\\n#1212  5.990103e+06  "
      ]
     },
     "execution_count": 2,
     "metadata": {},
     "output_type": "execute_result"
    }
   ],
   "source": [
    "from back.sqlite3_manager import sqlite3_manager_init, SQLITE3_CONECTION, calculate_distance\n",
    "\n",
    "import os\n",
    "\n",
    "BASE_DIR = os.getcwd()\n",
    "SQLITE3_CONECTION = sqlite3_manager_init(BASE_DIR)\n",
    "\n",
    "calculate_distance(1, 2)"
   ]
  },
  {
   "cell_type": "code",
   "execution_count": 3,
   "metadata": {},
   "outputs": [
    {
     "data": {
      "text/plain": [
       "[(1412857.1406171925,)]"
      ]
     },
     "execution_count": 3,
     "metadata": {},
     "output_type": "execute_result"
    }
   ],
   "source": [
    "cursor = SQLITE3_CONECTION.cursor()\n",
    "\n",
    "cursor.execute(\"select calculate_distance(?, ?, ?, ?)\", (1, 1, 10, 10)).fetchall()"
   ]
  },
  {
   "cell_type": "code",
   "execution_count": 16,
   "metadata": {},
   "outputs": [],
   "source": [
    "# def calculate_distance(lat: float, lon: float, result_count: int = 10) -> pd.DataFrame:\n",
    "\n",
    "#     global SQLITE3_CONECTION\n",
    "\n",
    "#     cursor = SQLITE3_CONECTION.cursor()\n",
    "    \n",
    "#     sql_str = \"\"\"\n",
    "#         select \n",
    "#             address_city, \n",
    "#             address_street, \n",
    "#             address_house, \n",
    "#             address_entrance, \n",
    "#             codes_list,\n",
    "#             calculate_distance(\n",
    "#                 location_latitude, \n",
    "#                 location_longitude, \n",
    "#                 {}, {}\n",
    "#             ) as distance\n",
    "        \n",
    "#         from y_eda_data\n",
    "\n",
    "#         order by distance\n",
    "\n",
    "#         limit {};\n",
    "#         \"\"\".format(\n",
    "#             lat, lon, result_count\n",
    "#         )\n",
    "#     print(sql_str)\n",
    "#     cursor.execute(sql_str)\n",
    "\n",
    "#     result = cursor.fetchall()\n",
    "#     cursor.close()\n",
    "\n",
    "#     return pd.DataFrame(\n",
    "#         result,\n",
    "#         columns=(\n",
    "#             \"address_city\",\n",
    "#             \"address_street\",\n",
    "#             \"address_house\",\n",
    "#             \"address_entrance\",\n",
    "#             \"codes_list\",\n",
    "#             \"distance\",\n",
    "#         ),\n",
    "#     )\n",
    "\n",
    "# # calculate_distance(1, 1)"
   ]
  }
 ],
 "metadata": {
  "kernelspec": {
   "display_name": "Python 3",
   "language": "python",
   "name": "python3"
  },
  "language_info": {
   "codemirror_mode": {
    "name": "ipython",
    "version": 3
   },
   "file_extension": ".py",
   "mimetype": "text/x-python",
   "name": "python",
   "nbconvert_exporter": "python",
   "pygments_lexer": "ipython3",
   "version": "3.10.12"
  },
  "orig_nbformat": 4
 },
 "nbformat": 4,
 "nbformat_minor": 2
}
