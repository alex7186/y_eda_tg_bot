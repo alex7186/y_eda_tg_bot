{
 "cells": [
  {
   "cell_type": "code",
   "execution_count": 6,
   "metadata": {},
   "outputs": [],
   "source": [
    "from sqlite3_manager import sqlite3_manager_init\n",
    "import pandas as pd\n",
    "\n",
    "SQLITE3_CONECTION = sqlite3_manager_init(\n",
    "    full_file_path=\"/media/alex/drive_2tb/y_eda_tg_bot/data/final_doorcodes.db\"\n",
    ")"
   ]
  },
  {
   "cell_type": "code",
   "execution_count": 56,
   "metadata": {},
   "outputs": [],
   "source": [
    "cursor = SQLITE3_CONECTION.cursor()\n",
    "df = pd.DataFrame(cursor.execute('select * from users_log').fetchall())\n",
    "cursor.close()"
   ]
  },
  {
   "cell_type": "code",
   "execution_count": 55,
   "metadata": {},
   "outputs": [
    {
     "data": {
      "text/html": [
       "<div>\n",
       "<style scoped>\n",
       "    .dataframe tbody tr th:only-of-type {\n",
       "        vertical-align: middle;\n",
       "    }\n",
       "\n",
       "    .dataframe tbody tr th {\n",
       "        vertical-align: top;\n",
       "    }\n",
       "\n",
       "    .dataframe thead th {\n",
       "        text-align: right;\n",
       "    }\n",
       "</style>\n",
       "<table border=\"1\" class=\"dataframe\">\n",
       "  <thead>\n",
       "    <tr style=\"text-align: right;\">\n",
       "      <th></th>\n",
       "      <th>date</th>\n",
       "      <th>tg_id</th>\n",
       "      <th>geo_link</th>\n",
       "    </tr>\n",
       "  </thead>\n",
       "  <tbody>\n",
       "    <tr>\n",
       "      <th>6</th>\n",
       "      <td>2023-09-10 15:59:06</td>\n",
       "      <td>350431059</td>\n",
       "      <td>[Гео](https://yandex.ru/maps/?ll=37.577075%2C5...</td>\n",
       "    </tr>\n",
       "    <tr>\n",
       "      <th>5</th>\n",
       "      <td>2023-09-10 15:58:11</td>\n",
       "      <td>747558089</td>\n",
       "      <td>[Гео](https://yandex.ru/maps/?ll=37.601893%2C5...</td>\n",
       "    </tr>\n",
       "    <tr>\n",
       "      <th>4</th>\n",
       "      <td>2023-09-04 19:42:35</td>\n",
       "      <td>747558089</td>\n",
       "      <td>[Гео](https://yandex.ru/maps/?ll=37.588956%2C5...</td>\n",
       "    </tr>\n",
       "    <tr>\n",
       "      <th>3</th>\n",
       "      <td>2023-09-04 01:50:50</td>\n",
       "      <td>761921564</td>\n",
       "      <td>[Гео](https://yandex.ru/maps/?ll=37.513575%2C5...</td>\n",
       "    </tr>\n",
       "    <tr>\n",
       "      <th>2</th>\n",
       "      <td>2023-09-04 01:49:07</td>\n",
       "      <td>761921564</td>\n",
       "      <td>[Гео](https://yandex.ru/maps/?ll=37.179556%2C5...</td>\n",
       "    </tr>\n",
       "  </tbody>\n",
       "</table>\n",
       "</div>"
      ],
      "text/plain": [
       "                  date      tg_id  \\\n",
       "6  2023-09-10 15:59:06  350431059   \n",
       "5  2023-09-10 15:58:11  747558089   \n",
       "4  2023-09-04 19:42:35  747558089   \n",
       "3  2023-09-04 01:50:50  761921564   \n",
       "2  2023-09-04 01:49:07  761921564   \n",
       "\n",
       "                                            geo_link  \n",
       "6  [Гео](https://yandex.ru/maps/?ll=37.577075%2C5...  \n",
       "5  [Гео](https://yandex.ru/maps/?ll=37.601893%2C5...  \n",
       "4  [Гео](https://yandex.ru/maps/?ll=37.588956%2C5...  \n",
       "3  [Гео](https://yandex.ru/maps/?ll=37.513575%2C5...  \n",
       "2  [Гео](https://yandex.ru/maps/?ll=37.179556%2C5...  "
      ]
     },
     "execution_count": 55,
     "metadata": {},
     "output_type": "execute_result"
    }
   ],
   "source": [
    "def geo_link(row):\n",
    "    return \"[Гео](https://yandex.ru/maps/?ll={}%2C{}&z=17)\".format(\n",
    "        row[2], row[3])\n",
    "\n",
    "df \\\n",
    "    .assign(geo_link=df[[2, 3]].apply(geo_link,axis=1)) \\\n",
    "    .drop([2, 3], axis=1) \\\n",
    "    .sort_values(0, ascending=False) \\\n",
    "    .head(5) \\\n",
    "    .rename({0: 'date', 1: 'tg_id'}, axis=1)"
   ]
  },
  {
   "cell_type": "code",
   "execution_count": null,
   "metadata": {},
   "outputs": [],
   "source": []
  }
 ],
 "metadata": {
  "kernelspec": {
   "display_name": "Python 3",
   "language": "python",
   "name": "python3"
  },
  "language_info": {
   "codemirror_mode": {
    "name": "ipython",
    "version": 3
   },
   "file_extension": ".py",
   "mimetype": "text/x-python",
   "name": "python",
   "nbconvert_exporter": "python",
   "pygments_lexer": "ipython3",
   "version": "3.10.12"
  },
  "orig_nbformat": 4
 },
 "nbformat": 4,
 "nbformat_minor": 2
}
